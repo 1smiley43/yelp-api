{
 "cells": [
  {
   "cell_type": "code",
   "execution_count": 1,
   "id": "e0a5254c",
   "metadata": {},
   "outputs": [],
   "source": [
    "# Standard Imports\n",
    "import numpy as np\n",
    "import pandas as pd\n",
    "import matplotlib.pyplot as plt\n",
    "import seaborn as sns\n",
    "\n",
    "# Additional Imports\n",
    "# os - for saving and loading files\n",
    "# json - to work with json files\n",
    "# math - to round up results\n",
    "# time - to add a short pause to not overwhelm the server\n",
    "import os, json, math, time\n",
    "\n",
    "# to make yelpapi calls\n",
    "from yelpapi import YelpAPI\n",
    "\n",
    "# progress bar from tqdm_notebook\n",
    "from tqdm.notebook import tqdm_notebook"
   ]
  },
  {
   "cell_type": "code",
   "execution_count": 2,
   "id": "1df95e0c",
   "metadata": {},
   "outputs": [
    {
     "name": "stdout",
     "output_type": "stream",
     "text": [
      "Requirement already satisfied: yelpapi in c:\\users\\lu\\anaconda3\\envs\\dojo-env\\lib\\site-packages (2.5.0)\n",
      "Requirement already satisfied: requests in c:\\users\\lu\\anaconda3\\envs\\dojo-env\\lib\\site-packages (from yelpapi) (2.28.1)\n",
      "Requirement already satisfied: charset-normalizer<3,>=2 in c:\\users\\lu\\anaconda3\\envs\\dojo-env\\lib\\site-packages (from requests->yelpapi) (2.0.4)\n",
      "Requirement already satisfied: urllib3<1.27,>=1.21.1 in c:\\users\\lu\\anaconda3\\envs\\dojo-env\\lib\\site-packages (from requests->yelpapi) (1.26.13)\n",
      "Requirement already satisfied: idna<4,>=2.5 in c:\\users\\lu\\anaconda3\\envs\\dojo-env\\lib\\site-packages (from requests->yelpapi) (3.4)\n",
      "Requirement already satisfied: certifi>=2017.4.17 in c:\\users\\lu\\anaconda3\\envs\\dojo-env\\lib\\site-packages (from requests->yelpapi) (2022.9.24)\n",
      "Requirement already satisfied: tqdm in c:\\users\\lu\\anaconda3\\envs\\dojo-env\\lib\\site-packages (4.64.1)\n",
      "Requirement already satisfied: colorama in c:\\users\\lu\\anaconda3\\envs\\dojo-env\\lib\\site-packages (from tqdm) (0.4.5)\n"
     ]
    }
   ],
   "source": [
    "!pip install yelpapi\n",
    "!pip install tqdm"
   ]
  },
  {
   "cell_type": "code",
   "execution_count": 3,
   "id": "1037c5d8",
   "metadata": {},
   "outputs": [
    {
     "data": {
      "text/plain": [
       "dict_keys(['client-id', 'api-key'])"
      ]
     },
     "execution_count": 3,
     "metadata": {},
     "output_type": "execute_result"
    }
   ],
   "source": [
    "import json\n",
    "with open('/Users/Lu/.secret/yelp_api.json') as f:\n",
    "    login = json.load(f)\n",
    "login.keys()"
   ]
  },
  {
   "cell_type": "code",
   "execution_count": 4,
   "id": "38d20942",
   "metadata": {},
   "outputs": [
    {
     "data": {
      "text/plain": [
       "<yelpapi.yelpapi.YelpAPI at 0x2efc8ab2040>"
      ]
     },
     "execution_count": 4,
     "metadata": {},
     "output_type": "execute_result"
    }
   ],
   "source": [
    "from yelpapi import YelpAPI\n",
    "yelp_api = YelpAPI(login['api-key'], timeout_s=5.0)\n",
    "yelp_api"
   ]
  },
  {
   "cell_type": "code",
   "execution_count": 5,
   "id": "3edf5786",
   "metadata": {},
   "outputs": [
    {
     "name": "stdout",
     "output_type": "stream",
     "text": [
      "Help on method search_query in module yelpapi.yelpapi:\n",
      "\n",
      "search_query(**kwargs) method of yelpapi.yelpapi.YelpAPI instance\n",
      "    Query the Yelp Search API.\n",
      "    \n",
      "    documentation: https://www.yelp.com/developers/documentation/v3/business_search\n",
      "    \n",
      "    required parameters:\n",
      "        * one of either:\n",
      "            * location - text specifying a location to search for\n",
      "            * latitude and longitude\n",
      "\n"
     ]
    }
   ],
   "source": [
    "help(yelp_api.search_query)"
   ]
  },
  {
   "cell_type": "code",
   "execution_count": 6,
   "id": "3063afac",
   "metadata": {},
   "outputs": [],
   "source": [
    "# set our API call parameters \n",
    "LOCATION = 'St Louis, MO'\n",
    "TERM = 'BBQ'"
   ]
  },
  {
   "cell_type": "code",
   "execution_count": 7,
   "id": "54653643",
   "metadata": {},
   "outputs": [
    {
     "data": {
      "text/plain": [
       "'Data/results_in_progress_STL_BBQ.json'"
      ]
     },
     "execution_count": 7,
     "metadata": {},
     "output_type": "execute_result"
    }
   ],
   "source": [
    "# Specifying JSON_FILE filename (can include a folder)\n",
    "# include the search terms in the filename\n",
    "JSON_FILE = \"Data/results_in_progress_STL_BBQ.json\"\n",
    "JSON_FILE"
   ]
  },
  {
   "cell_type": "code",
   "execution_count": 8,
   "id": "d2123011",
   "metadata": {},
   "outputs": [],
   "source": [
    "def create_json_file(JSON_FILE,  delete_if_exists=False):\n",
    "    \n",
    "    ## Check if JSON_FILE exists\n",
    "    file_exists = os.path.isfile(JSON_FILE)\n",
    "    \n",
    "    ## If it DOES exist:\n",
    "    if file_exists == True:\n",
    "        \n",
    "        ## Check if user wants to delete if exists\n",
    "        if delete_if_exists==True:\n",
    "            \n",
    "            print(f\"[!] {JSON_FILE} already exists. Deleting previous file...\")\n",
    "            ## delete file and confirm it no longer exits.\n",
    "            os.remove(JSON_FILE)\n",
    "            ## Recursive call to function after old file deleted\n",
    "            create_json_file(JSON_FILE,delete_if_exists=False)\n",
    "        else:\n",
    "            print(f\"[i] {JSON_FILE} already exists.\")            \n",
    "            \n",
    "            \n",
    "    ## If it does NOT exist:\n",
    "    else:\n",
    "        \n",
    "        ## INFORM USER AND SAVE EMPTY LIST\n",
    "        print(f\"[i] {JSON_FILE} not found. Saving empty list to new file.\")\n",
    "        \n",
    "        ## CREATE ANY NEEDED FOLDERS\n",
    "        # Get the Folder Name only\n",
    "        folder = os.path.dirname(JSON_FILE)\n",
    "        \n",
    "        ## If JSON_FILE included a folder:\n",
    "        if len(folder)>0:\n",
    "            # create the folder\n",
    "            os.makedirs(folder,exist_ok=True)\n",
    "        ## Save empty list to start the json file\n",
    "        with open(JSON_FILE,'w') as f:\n",
    "            json.dump([],f)  "
   ]
  },
  {
   "cell_type": "code",
   "execution_count": 10,
   "id": "a43c0951",
   "metadata": {},
   "outputs": [
    {
     "name": "stdout",
     "output_type": "stream",
     "text": [
      "[i] Data/results_in_progress_STL_BBQ.json not found. Saving empty list to new file.\n"
     ]
    }
   ],
   "source": [
    "## Create a new empty json file (exist the previous if it exists)\n",
    "create_json_file(JSON_FILE, delete_if_exists=True)"
   ]
  },
  {
   "cell_type": "code",
   "execution_count": 11,
   "id": "64639193",
   "metadata": {},
   "outputs": [
    {
     "name": "stdout",
     "output_type": "stream",
     "text": [
      "- 0 previous results found.\n"
     ]
    }
   ],
   "source": [
    "## Load previous results and use len of results for offset\n",
    "with open(JSON_FILE,'r') as f:\n",
    "    previous_results = json.load(f)\n",
    "    \n",
    "## set offset based on previous results\n",
    "n_results = len(previous_results)\n",
    "print(f'- {n_results} previous results found.')"
   ]
  },
  {
   "cell_type": "code",
   "execution_count": 12,
   "id": "2afbf8ed",
   "metadata": {},
   "outputs": [
    {
     "name": "stdout",
     "output_type": "stream",
     "text": [
      "<class 'dict'>\n"
     ]
    },
    {
     "data": {
      "text/plain": [
       "dict_keys(['businesses', 'total', 'region'])"
      ]
     },
     "execution_count": 12,
     "metadata": {},
     "output_type": "execute_result"
    }
   ],
   "source": [
    "# use our yelp_api variable's search_query method to perform our API call\n",
    "search_results = yelp_api.search_query(location=LOCATION,\n",
    "                                       term=TERM,\n",
    "                                       offset=n_results)\n",
    "print(type(search_results))\n",
    "search_results.keys()"
   ]
  },
  {
   "cell_type": "code",
   "execution_count": 13,
   "id": "6d20925d",
   "metadata": {},
   "outputs": [
    {
     "data": {
      "text/plain": [
       "1800"
      ]
     },
     "execution_count": 13,
     "metadata": {},
     "output_type": "execute_result"
    }
   ],
   "source": [
    "## How many results total?\n",
    "total_results = search_results['total']\n",
    "total_results"
   ]
  },
  {
   "cell_type": "code",
   "execution_count": 14,
   "id": "b5834dc6",
   "metadata": {},
   "outputs": [
    {
     "data": {
      "text/plain": [
       "20"
      ]
     },
     "execution_count": 14,
     "metadata": {},
     "output_type": "execute_result"
    }
   ],
   "source": [
    "## How many did we get the details for?\n",
    "results_per_page = len(search_results['businesses'])\n",
    "results_per_page"
   ]
  },
  {
   "cell_type": "code",
   "execution_count": 15,
   "id": "e6020bd1",
   "metadata": {},
   "outputs": [
    {
     "data": {
      "text/plain": [
       "90"
      ]
     },
     "execution_count": 15,
     "metadata": {},
     "output_type": "execute_result"
    }
   ],
   "source": [
    "# Import additional packages for controlling our loop\n",
    "import time, math\n",
    "# Use math.ceil to round up for the total number of pages of results.\n",
    "n_pages = math.ceil((search_results['total']-n_results)/ results_per_page)\n",
    "n_pages"
   ]
  },
  {
   "cell_type": "code",
   "execution_count": 16,
   "id": "b86bf4d9",
   "metadata": {},
   "outputs": [],
   "source": [
    "# join new results with old list with extend and save to file\n",
    "previous_results.extend(search_results['businesses'])  \n",
    "with open(JSON_FILE,'w') as f:\n",
    "     json.dump(previous_results,f)"
   ]
  },
  {
   "cell_type": "code",
   "execution_count": 18,
   "id": "9834373d",
   "metadata": {},
   "outputs": [
    {
     "data": {
      "application/vnd.jupyter.widget-view+json": {
       "model_id": "fcb5daf39e004b2a8b81e37924b5f4b3",
       "version_major": 2,
       "version_minor": 0
      },
      "text/plain": [
       "  0%|          | 0/90 [00:00<?, ?it/s]"
      ]
     },
     "metadata": {},
     "output_type": "display_data"
    },
    {
     "name": "stdout",
     "output_type": "stream",
     "text": [
      "Exceeded 1000 api calls. Stopping loop.\n"
     ]
    }
   ],
   "source": [
    "for i in tqdm_notebook( range(1,n_pages+1)):\n",
    "    \n",
    "    ## Read in results in progress file and check the length\n",
    "    with open(JSON_FILE, 'r') as f:\n",
    "        previous_results = json.load(f)\n",
    "    ## save number of results for to use as offset\n",
    "    n_results = len(previous_results)\n",
    "    \n",
    "    if (n_results + results_per_page) > 1000:\n",
    "        print('Exceeded 1000 api calls. Stopping loop.')\n",
    "        break\n",
    "    \n",
    "    ## use n_results as the OFFSET \n",
    "    results = yelp_api.search_query(location=LOCATION,\n",
    "                                    term=TERM, \n",
    "                                    offset=n_results)\n",
    "    \n",
    "    \n",
    "    ## append new results and save to file\n",
    "    previous_results.extend(search_results['businesses'])\n",
    "    \n",
    "    # display(previous_results)\n",
    "    with open(JSON_FILE,'w') as f:\n",
    "        json.dump(previous_results,f)\n",
    "    \n",
    "    time.sleep(.2)"
   ]
  },
  {
   "cell_type": "code",
   "execution_count": 19,
   "id": "529be8be",
   "metadata": {},
   "outputs": [
    {
     "data": {
      "text/html": [
       "<div>\n",
       "<style scoped>\n",
       "    .dataframe tbody tr th:only-of-type {\n",
       "        vertical-align: middle;\n",
       "    }\n",
       "\n",
       "    .dataframe tbody tr th {\n",
       "        vertical-align: top;\n",
       "    }\n",
       "\n",
       "    .dataframe thead th {\n",
       "        text-align: right;\n",
       "    }\n",
       "</style>\n",
       "<table border=\"1\" class=\"dataframe\">\n",
       "  <thead>\n",
       "    <tr style=\"text-align: right;\">\n",
       "      <th></th>\n",
       "      <th>id</th>\n",
       "      <th>alias</th>\n",
       "      <th>name</th>\n",
       "      <th>image_url</th>\n",
       "      <th>is_closed</th>\n",
       "      <th>url</th>\n",
       "      <th>review_count</th>\n",
       "      <th>categories</th>\n",
       "      <th>rating</th>\n",
       "      <th>coordinates</th>\n",
       "      <th>transactions</th>\n",
       "      <th>price</th>\n",
       "      <th>location</th>\n",
       "      <th>phone</th>\n",
       "      <th>display_phone</th>\n",
       "      <th>distance</th>\n",
       "    </tr>\n",
       "  </thead>\n",
       "  <tbody>\n",
       "    <tr>\n",
       "      <th>0</th>\n",
       "      <td>I_3LMZ_1m2mzR0oLIOePIg</td>\n",
       "      <td>pappys-smokehouse-saint-louis-3</td>\n",
       "      <td>Pappy's Smokehouse</td>\n",
       "      <td>https://s3-media3.fl.yelpcdn.com/bphoto/_U0uWo...</td>\n",
       "      <td>False</td>\n",
       "      <td>https://www.yelp.com/biz/pappys-smokehouse-sai...</td>\n",
       "      <td>4385</td>\n",
       "      <td>[{'alias': 'bbq', 'title': 'Barbeque'}, {'alia...</td>\n",
       "      <td>4.5</td>\n",
       "      <td>{'latitude': 38.635146597249, 'longitude': -90...</td>\n",
       "      <td>[delivery, pickup]</td>\n",
       "      <td>$$</td>\n",
       "      <td>{'address1': '3106 Olive St', 'address2': '', ...</td>\n",
       "      <td>+13145354340</td>\n",
       "      <td>(314) 535-4340</td>\n",
       "      <td>2599.211156</td>\n",
       "    </tr>\n",
       "    <tr>\n",
       "      <th>1</th>\n",
       "      <td>vWjME92WddneF98IqzaNfQ</td>\n",
       "      <td>sugarfire-smoke-house-saint-louis-2</td>\n",
       "      <td>Sugarfire Smoke House</td>\n",
       "      <td>https://s3-media4.fl.yelpcdn.com/bphoto/lFajL-...</td>\n",
       "      <td>False</td>\n",
       "      <td>https://www.yelp.com/biz/sugarfire-smoke-house...</td>\n",
       "      <td>1843</td>\n",
       "      <td>[{'alias': 'bbq', 'title': 'Barbeque'}]</td>\n",
       "      <td>4.5</td>\n",
       "      <td>{'latitude': 38.673459, 'longitude': -90.367448}</td>\n",
       "      <td>[delivery]</td>\n",
       "      <td>$$</td>\n",
       "      <td>{'address1': '9200 Olive Blvd', 'address2': ''...</td>\n",
       "      <td>+13149972301</td>\n",
       "      <td>(314) 997-2301</td>\n",
       "      <td>11032.124217</td>\n",
       "    </tr>\n",
       "    <tr>\n",
       "      <th>2</th>\n",
       "      <td>NHb6QTrJOnyIj-Zd0fYzFg</td>\n",
       "      <td>bogarts-smokehouse-saint-louis-4</td>\n",
       "      <td>Bogart's Smokehouse</td>\n",
       "      <td>https://s3-media2.fl.yelpcdn.com/bphoto/gNo_J2...</td>\n",
       "      <td>False</td>\n",
       "      <td>https://www.yelp.com/biz/bogarts-smokehouse-sa...</td>\n",
       "      <td>1549</td>\n",
       "      <td>[{'alias': 'bbq', 'title': 'Barbeque'}, {'alia...</td>\n",
       "      <td>4.5</td>\n",
       "      <td>{'latitude': 38.61098, 'longitude': -90.20286}</td>\n",
       "      <td>[delivery, pickup]</td>\n",
       "      <td>$$</td>\n",
       "      <td>{'address1': '1627 S 9th St', 'address2': '', ...</td>\n",
       "      <td>+13146213107</td>\n",
       "      <td>(314) 621-3107</td>\n",
       "      <td>5849.887615</td>\n",
       "    </tr>\n",
       "    <tr>\n",
       "      <th>3</th>\n",
       "      <td>WCdSajl5Q0qywpv7K5jHdQ</td>\n",
       "      <td>sugarfire-smoke-house-saint-louis-4</td>\n",
       "      <td>Sugarfire Smoke House</td>\n",
       "      <td>https://s3-media4.fl.yelpcdn.com/bphoto/UmoHh1...</td>\n",
       "      <td>False</td>\n",
       "      <td>https://www.yelp.com/biz/sugarfire-smoke-house...</td>\n",
       "      <td>1348</td>\n",
       "      <td>[{'alias': 'bbq', 'title': 'Barbeque'}, {'alia...</td>\n",
       "      <td>4.0</td>\n",
       "      <td>{'latitude': 38.63077, 'longitude': -90.18975}</td>\n",
       "      <td>[delivery]</td>\n",
       "      <td>$$</td>\n",
       "      <td>{'address1': '605 Washington Ave', 'address2':...</td>\n",
       "      <td>+13147978485</td>\n",
       "      <td>(314) 797-8485</td>\n",
       "      <td>5294.089599</td>\n",
       "    </tr>\n",
       "    <tr>\n",
       "      <th>4</th>\n",
       "      <td>R8t9g5nvi7VFyS8zsgmj8Q</td>\n",
       "      <td>salt-smoke-saint-louis</td>\n",
       "      <td>Salt + Smoke</td>\n",
       "      <td>https://s3-media2.fl.yelpcdn.com/bphoto/tZgXfN...</td>\n",
       "      <td>False</td>\n",
       "      <td>https://www.yelp.com/biz/salt-smoke-saint-loui...</td>\n",
       "      <td>2152</td>\n",
       "      <td>[{'alias': 'bars', 'title': 'Bars'}, {'alias':...</td>\n",
       "      <td>4.5</td>\n",
       "      <td>{'latitude': 38.6561019915198, 'longitude': -9...</td>\n",
       "      <td>[delivery, pickup]</td>\n",
       "      <td>$$</td>\n",
       "      <td>{'address1': '6525 Delmar Blvd', 'address2': '...</td>\n",
       "      <td>+13147270200</td>\n",
       "      <td>(314) 727-0200</td>\n",
       "      <td>5395.921288</td>\n",
       "    </tr>\n",
       "  </tbody>\n",
       "</table>\n",
       "</div>"
      ],
      "text/plain": [
       "                       id                                alias  \\\n",
       "0  I_3LMZ_1m2mzR0oLIOePIg      pappys-smokehouse-saint-louis-3   \n",
       "1  vWjME92WddneF98IqzaNfQ  sugarfire-smoke-house-saint-louis-2   \n",
       "2  NHb6QTrJOnyIj-Zd0fYzFg     bogarts-smokehouse-saint-louis-4   \n",
       "3  WCdSajl5Q0qywpv7K5jHdQ  sugarfire-smoke-house-saint-louis-4   \n",
       "4  R8t9g5nvi7VFyS8zsgmj8Q               salt-smoke-saint-louis   \n",
       "\n",
       "                    name                                          image_url  \\\n",
       "0     Pappy's Smokehouse  https://s3-media3.fl.yelpcdn.com/bphoto/_U0uWo...   \n",
       "1  Sugarfire Smoke House  https://s3-media4.fl.yelpcdn.com/bphoto/lFajL-...   \n",
       "2    Bogart's Smokehouse  https://s3-media2.fl.yelpcdn.com/bphoto/gNo_J2...   \n",
       "3  Sugarfire Smoke House  https://s3-media4.fl.yelpcdn.com/bphoto/UmoHh1...   \n",
       "4           Salt + Smoke  https://s3-media2.fl.yelpcdn.com/bphoto/tZgXfN...   \n",
       "\n",
       "   is_closed                                                url  review_count  \\\n",
       "0      False  https://www.yelp.com/biz/pappys-smokehouse-sai...          4385   \n",
       "1      False  https://www.yelp.com/biz/sugarfire-smoke-house...          1843   \n",
       "2      False  https://www.yelp.com/biz/bogarts-smokehouse-sa...          1549   \n",
       "3      False  https://www.yelp.com/biz/sugarfire-smoke-house...          1348   \n",
       "4      False  https://www.yelp.com/biz/salt-smoke-saint-loui...          2152   \n",
       "\n",
       "                                          categories  rating  \\\n",
       "0  [{'alias': 'bbq', 'title': 'Barbeque'}, {'alia...     4.5   \n",
       "1            [{'alias': 'bbq', 'title': 'Barbeque'}]     4.5   \n",
       "2  [{'alias': 'bbq', 'title': 'Barbeque'}, {'alia...     4.5   \n",
       "3  [{'alias': 'bbq', 'title': 'Barbeque'}, {'alia...     4.0   \n",
       "4  [{'alias': 'bars', 'title': 'Bars'}, {'alias':...     4.5   \n",
       "\n",
       "                                         coordinates        transactions  \\\n",
       "0  {'latitude': 38.635146597249, 'longitude': -90...  [delivery, pickup]   \n",
       "1   {'latitude': 38.673459, 'longitude': -90.367448}          [delivery]   \n",
       "2     {'latitude': 38.61098, 'longitude': -90.20286}  [delivery, pickup]   \n",
       "3     {'latitude': 38.63077, 'longitude': -90.18975}          [delivery]   \n",
       "4  {'latitude': 38.6561019915198, 'longitude': -9...  [delivery, pickup]   \n",
       "\n",
       "  price                                           location         phone  \\\n",
       "0    $$  {'address1': '3106 Olive St', 'address2': '', ...  +13145354340   \n",
       "1    $$  {'address1': '9200 Olive Blvd', 'address2': ''...  +13149972301   \n",
       "2    $$  {'address1': '1627 S 9th St', 'address2': '', ...  +13146213107   \n",
       "3    $$  {'address1': '605 Washington Ave', 'address2':...  +13147978485   \n",
       "4    $$  {'address1': '6525 Delmar Blvd', 'address2': '...  +13147270200   \n",
       "\n",
       "    display_phone      distance  \n",
       "0  (314) 535-4340   2599.211156  \n",
       "1  (314) 997-2301  11032.124217  \n",
       "2  (314) 621-3107   5849.887615  \n",
       "3  (314) 797-8485   5294.089599  \n",
       "4  (314) 727-0200   5395.921288  "
      ]
     },
     "metadata": {},
     "output_type": "display_data"
    },
    {
     "data": {
      "text/html": [
       "<div>\n",
       "<style scoped>\n",
       "    .dataframe tbody tr th:only-of-type {\n",
       "        vertical-align: middle;\n",
       "    }\n",
       "\n",
       "    .dataframe tbody tr th {\n",
       "        vertical-align: top;\n",
       "    }\n",
       "\n",
       "    .dataframe thead th {\n",
       "        text-align: right;\n",
       "    }\n",
       "</style>\n",
       "<table border=\"1\" class=\"dataframe\">\n",
       "  <thead>\n",
       "    <tr style=\"text-align: right;\">\n",
       "      <th></th>\n",
       "      <th>id</th>\n",
       "      <th>alias</th>\n",
       "      <th>name</th>\n",
       "      <th>image_url</th>\n",
       "      <th>is_closed</th>\n",
       "      <th>url</th>\n",
       "      <th>review_count</th>\n",
       "      <th>categories</th>\n",
       "      <th>rating</th>\n",
       "      <th>coordinates</th>\n",
       "      <th>transactions</th>\n",
       "      <th>price</th>\n",
       "      <th>location</th>\n",
       "      <th>phone</th>\n",
       "      <th>display_phone</th>\n",
       "      <th>distance</th>\n",
       "    </tr>\n",
       "  </thead>\n",
       "  <tbody>\n",
       "    <tr>\n",
       "      <th>995</th>\n",
       "      <td>cTvzHrIlCBMLA_AceItNZQ</td>\n",
       "      <td>tootie-s-on-washington-ave-st-louis</td>\n",
       "      <td>Tootie’s on Washington Ave</td>\n",
       "      <td>https://s3-media1.fl.yelpcdn.com/bphoto/jHrA2w...</td>\n",
       "      <td>False</td>\n",
       "      <td>https://www.yelp.com/biz/tootie-s-on-washingto...</td>\n",
       "      <td>9</td>\n",
       "      <td>[{'alias': 'southern', 'title': 'Southern'}, {...</td>\n",
       "      <td>4.5</td>\n",
       "      <td>{'latitude': 38.63420964602558, 'longitude': -...</td>\n",
       "      <td>[delivery, pickup]</td>\n",
       "      <td>NaN</td>\n",
       "      <td>{'address1': '1933 Washington Ave', 'address2'...</td>\n",
       "      <td>+13142269095</td>\n",
       "      <td>(314) 226-9095</td>\n",
       "      <td>3739.700558</td>\n",
       "    </tr>\n",
       "    <tr>\n",
       "      <th>996</th>\n",
       "      <td>R_u4QTal0d5f-FHr7BUXcw</td>\n",
       "      <td>smoking-barrels-bbq-st-louis-st-louis</td>\n",
       "      <td>Smoking Barrels BBQ - St. Louis</td>\n",
       "      <td>https://s3-media3.fl.yelpcdn.com/bphoto/v9jrgg...</td>\n",
       "      <td>False</td>\n",
       "      <td>https://www.yelp.com/biz/smoking-barrels-bbq-s...</td>\n",
       "      <td>365</td>\n",
       "      <td>[{'alias': 'bbq', 'title': 'Barbeque'}]</td>\n",
       "      <td>4.0</td>\n",
       "      <td>{'latitude': 38.5786660097518, 'longitude': -9...</td>\n",
       "      <td>[delivery, pickup]</td>\n",
       "      <td>$$</td>\n",
       "      <td>{'address1': '5641 S Kingshighway Blvd', 'addr...</td>\n",
       "      <td>+13146699455</td>\n",
       "      <td>(314) 669-9455</td>\n",
       "      <td>8957.613668</td>\n",
       "    </tr>\n",
       "    <tr>\n",
       "      <th>997</th>\n",
       "      <td>nwN92Uje-xIKE5voPTTvBQ</td>\n",
       "      <td>beast-craft-bbq-belleville</td>\n",
       "      <td>BEAST Craft BBQ</td>\n",
       "      <td>https://s3-media3.fl.yelpcdn.com/bphoto/GA_8Fb...</td>\n",
       "      <td>False</td>\n",
       "      <td>https://www.yelp.com/biz/beast-craft-bbq-belle...</td>\n",
       "      <td>685</td>\n",
       "      <td>[{'alias': 'bbq', 'title': 'Barbeque'}]</td>\n",
       "      <td>4.5</td>\n",
       "      <td>{'latitude': 38.50212, 'longitude': -89.98536}</td>\n",
       "      <td>[delivery, pickup]</td>\n",
       "      <td>$$</td>\n",
       "      <td>{'address1': '20 S Belt W', 'address2': None, ...</td>\n",
       "      <td>+16182579000</td>\n",
       "      <td>(618) 257-9000</td>\n",
       "      <td>28012.824351</td>\n",
       "    </tr>\n",
       "    <tr>\n",
       "      <th>998</th>\n",
       "      <td>F_uCny898hCrK1pByKLkaw</td>\n",
       "      <td>sugarfire-o-fallon-2</td>\n",
       "      <td>Sugarfire</td>\n",
       "      <td>https://s3-media2.fl.yelpcdn.com/bphoto/meezmT...</td>\n",
       "      <td>False</td>\n",
       "      <td>https://www.yelp.com/biz/sugarfire-o-fallon-2?...</td>\n",
       "      <td>145</td>\n",
       "      <td>[{'alias': 'smokehouse', 'title': 'Smokehouse'}]</td>\n",
       "      <td>3.5</td>\n",
       "      <td>{'latitude': 38.58113086987757, 'longitude': -...</td>\n",
       "      <td>[delivery]</td>\n",
       "      <td>$$</td>\n",
       "      <td>{'address1': '1425 N Green Mount Rd', 'address...</td>\n",
       "      <td>+16183603473</td>\n",
       "      <td>(618) 360-3473</td>\n",
       "      <td>28392.888373</td>\n",
       "    </tr>\n",
       "    <tr>\n",
       "      <th>999</th>\n",
       "      <td>1o9IdLrFGMS2o5Y8uXKC0Q</td>\n",
       "      <td>adams-smokehouse-saint-louis</td>\n",
       "      <td>Adam's Smokehouse</td>\n",
       "      <td>https://s3-media3.fl.yelpcdn.com/bphoto/yeqxli...</td>\n",
       "      <td>False</td>\n",
       "      <td>https://www.yelp.com/biz/adams-smokehouse-sain...</td>\n",
       "      <td>378</td>\n",
       "      <td>[{'alias': 'bbq', 'title': 'Barbeque'}, {'alia...</td>\n",
       "      <td>4.5</td>\n",
       "      <td>{'latitude': 38.6093667, 'longitude': -90.29013}</td>\n",
       "      <td>[delivery, pickup]</td>\n",
       "      <td>$$</td>\n",
       "      <td>{'address1': '2819 Watson Rd', 'address2': '',...</td>\n",
       "      <td>+13148759890</td>\n",
       "      <td>(314) 875-9890</td>\n",
       "      <td>6357.980247</td>\n",
       "    </tr>\n",
       "  </tbody>\n",
       "</table>\n",
       "</div>"
      ],
      "text/plain": [
       "                         id                                  alias  \\\n",
       "995  cTvzHrIlCBMLA_AceItNZQ    tootie-s-on-washington-ave-st-louis   \n",
       "996  R_u4QTal0d5f-FHr7BUXcw  smoking-barrels-bbq-st-louis-st-louis   \n",
       "997  nwN92Uje-xIKE5voPTTvBQ             beast-craft-bbq-belleville   \n",
       "998  F_uCny898hCrK1pByKLkaw                   sugarfire-o-fallon-2   \n",
       "999  1o9IdLrFGMS2o5Y8uXKC0Q           adams-smokehouse-saint-louis   \n",
       "\n",
       "                                name  \\\n",
       "995       Tootie’s on Washington Ave   \n",
       "996  Smoking Barrels BBQ - St. Louis   \n",
       "997                  BEAST Craft BBQ   \n",
       "998                        Sugarfire   \n",
       "999                Adam's Smokehouse   \n",
       "\n",
       "                                             image_url  is_closed  \\\n",
       "995  https://s3-media1.fl.yelpcdn.com/bphoto/jHrA2w...      False   \n",
       "996  https://s3-media3.fl.yelpcdn.com/bphoto/v9jrgg...      False   \n",
       "997  https://s3-media3.fl.yelpcdn.com/bphoto/GA_8Fb...      False   \n",
       "998  https://s3-media2.fl.yelpcdn.com/bphoto/meezmT...      False   \n",
       "999  https://s3-media3.fl.yelpcdn.com/bphoto/yeqxli...      False   \n",
       "\n",
       "                                                   url  review_count  \\\n",
       "995  https://www.yelp.com/biz/tootie-s-on-washingto...             9   \n",
       "996  https://www.yelp.com/biz/smoking-barrels-bbq-s...           365   \n",
       "997  https://www.yelp.com/biz/beast-craft-bbq-belle...           685   \n",
       "998  https://www.yelp.com/biz/sugarfire-o-fallon-2?...           145   \n",
       "999  https://www.yelp.com/biz/adams-smokehouse-sain...           378   \n",
       "\n",
       "                                            categories  rating  \\\n",
       "995  [{'alias': 'southern', 'title': 'Southern'}, {...     4.5   \n",
       "996            [{'alias': 'bbq', 'title': 'Barbeque'}]     4.0   \n",
       "997            [{'alias': 'bbq', 'title': 'Barbeque'}]     4.5   \n",
       "998   [{'alias': 'smokehouse', 'title': 'Smokehouse'}]     3.5   \n",
       "999  [{'alias': 'bbq', 'title': 'Barbeque'}, {'alia...     4.5   \n",
       "\n",
       "                                           coordinates        transactions  \\\n",
       "995  {'latitude': 38.63420964602558, 'longitude': -...  [delivery, pickup]   \n",
       "996  {'latitude': 38.5786660097518, 'longitude': -9...  [delivery, pickup]   \n",
       "997     {'latitude': 38.50212, 'longitude': -89.98536}  [delivery, pickup]   \n",
       "998  {'latitude': 38.58113086987757, 'longitude': -...          [delivery]   \n",
       "999   {'latitude': 38.6093667, 'longitude': -90.29013}  [delivery, pickup]   \n",
       "\n",
       "    price                                           location         phone  \\\n",
       "995   NaN  {'address1': '1933 Washington Ave', 'address2'...  +13142269095   \n",
       "996    $$  {'address1': '5641 S Kingshighway Blvd', 'addr...  +13146699455   \n",
       "997    $$  {'address1': '20 S Belt W', 'address2': None, ...  +16182579000   \n",
       "998    $$  {'address1': '1425 N Green Mount Rd', 'address...  +16183603473   \n",
       "999    $$  {'address1': '2819 Watson Rd', 'address2': '',...  +13148759890   \n",
       "\n",
       "      display_phone      distance  \n",
       "995  (314) 226-9095   3739.700558  \n",
       "996  (314) 669-9455   8957.613668  \n",
       "997  (618) 257-9000  28012.824351  \n",
       "998  (618) 360-3473  28392.888373  \n",
       "999  (314) 875-9890   6357.980247  "
      ]
     },
     "metadata": {},
     "output_type": "display_data"
    }
   ],
   "source": [
    "# load final results\n",
    "final_df = pd.read_json(JSON_FILE)\n",
    "display(final_df.head(), final_df.tail())"
   ]
  },
  {
   "cell_type": "code",
   "execution_count": 21,
   "id": "d3195ee2",
   "metadata": {},
   "outputs": [
    {
     "data": {
      "text/plain": [
       "600"
      ]
     },
     "execution_count": 21,
     "metadata": {},
     "output_type": "execute_result"
    }
   ],
   "source": [
    "# check for duplicate ID's \n",
    "final_df.duplicated(subset='id').sum()"
   ]
  },
  {
   "cell_type": "code",
   "execution_count": 22,
   "id": "e6341ef3",
   "metadata": {},
   "outputs": [
    {
     "data": {
      "text/plain": [
       "0"
      ]
     },
     "execution_count": 22,
     "metadata": {},
     "output_type": "execute_result"
    }
   ],
   "source": [
    "## Drop duplicate ids and confirm there are no more duplicates\n",
    "final_df = final_df.drop_duplicates(subset='id')\n",
    "final_df.duplicated(subset='id').sum()"
   ]
  },
  {
   "cell_type": "code",
   "execution_count": 23,
   "id": "3eaa53c0",
   "metadata": {},
   "outputs": [],
   "source": [
    "# save the final results to a compressed csv\n",
    "final_df.to_csv('Data/final_results_STL_BBQ.csv.gz', compression='gzip',index=False)"
   ]
  },
  {
   "cell_type": "code",
   "execution_count": null,
   "id": "c177ab88",
   "metadata": {},
   "outputs": [],
   "source": []
  }
 ],
 "metadata": {
  "kernelspec": {
   "display_name": "Python (dojo-env)",
   "language": "python",
   "name": "dojo-env"
  },
  "language_info": {
   "codemirror_mode": {
    "name": "ipython",
    "version": 3
   },
   "file_extension": ".py",
   "mimetype": "text/x-python",
   "name": "python",
   "nbconvert_exporter": "python",
   "pygments_lexer": "ipython3",
   "version": "3.9.15"
  },
  "toc": {
   "base_numbering": 1,
   "nav_menu": {},
   "number_sections": false,
   "sideBar": true,
   "skip_h1_title": false,
   "title_cell": "Table of Contents",
   "title_sidebar": "Contents",
   "toc_cell": false,
   "toc_position": {},
   "toc_section_display": true,
   "toc_window_display": false
  }
 },
 "nbformat": 4,
 "nbformat_minor": 5
}
